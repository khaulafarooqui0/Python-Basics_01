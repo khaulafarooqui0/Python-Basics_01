{
 "cells": [
  {
   "cell_type": "markdown",
   "id": "7ea145f3",
   "metadata": {},
   "source": [
    "# Python Operators\n",
    "Operators are used to perform operations on variables and values.\n",
    "\n",
    "In the example below, we use the + operator to add together two values:"
   ]
  },
  {
   "cell_type": "markdown",
   "id": "93aabf76",
   "metadata": {},
   "source": [
    "Python divides the operators in the following groups:\n",
    "\n",
    "Arithmetic operators\n",
    "Assignment operators\n",
    "Comparison operators\n",
    "Logical operators\n",
    "Identity operators\n",
    "Membership operators\n",
    "Bitwise operators"
   ]
  },
  {
   "cell_type": "code",
   "execution_count": null,
   "id": "4b38a31b",
   "metadata": {},
   "outputs": [],
   "source": [
    "''' Python Arithmetic Operators\n",
    "Arithmetic operators are used with numeric values to perform common mathematical operations:\n",
    "\n",
    "Operator\tName\tExample\tTry it\n",
    "+\tAddition\tx + y\t\n",
    "-\tSubtraction\tx - y\t\n",
    "*\tMultiplication\tx * y\t\n",
    "/\tDivision\tx / y\t\n",
    "%\tModulus\tx % y\t\n",
    "**\tExponentiation\tx ** y\t\n",
    "//\tFloor division\tx // y'''"
   ]
  },
  {
   "cell_type": "markdown",
   "id": "b397fcc8",
   "metadata": {},
   "source": [
    "# Python Assignment Operators\n",
    "Assignment operators are used to assign values to variables:\n",
    "    Operator\tExample\tSame As\tTry it\n",
    "=\tx = 5\tx = 5\t\n",
    "+=\tx += 3\tx = x + 3\t\n",
    "-=\tx -= 3\tx = x - 3\t\n",
    "*=\tx *= 3\tx = x * 3\t\n",
    "/=\tx /= 3\tx = x / 3\t\n",
    "%=\tx %= 3\tx = x % 3\t\n",
    "//=\tx //= 3\tx = x // 3\t\n",
    "**=\tx **= 3\tx = x ** 3\t\n",
    "&=\tx &= 3\tx = x & 3\t\n",
    "|=\tx |= 3\tx = x | 3\t\n",
    "^=\tx ^= 3\tx = x ^ 3\t\n",
    ">>=\tx >>= 3\tx = x >> 3\t\n",
    "<<=\tx <<= 3\tx = x << 3"
   ]
  },
  {
   "cell_type": "markdown",
   "id": "283487be",
   "metadata": {},
   "source": [
    "# Python Comparison Operators\n",
    "Comparison operators are used to compare two values:\n",
    "Operator\tName\tExample\tTry it\n",
    "==\tEqual\tx == y\t\n",
    "!=\tNot equal\tx != y\t\n",
    ">\tGreater than\tx > y\t\n",
    "<\tLess than\t    x < y\t\n",
    ">=\tGreater than or equal to\tx >= y\t\n",
    "<=\tLess than or equal to\tx <= y"
   ]
  },
  {
   "cell_type": "markdown",
   "id": "bd06e5b7",
   "metadata": {},
   "source": [
    "# Python Logical Operators\n",
    "Logical operators are used to combine conditional statements:\n",
    "    Operator\tDescription\tExample\tTry it\n",
    "and \tReturns True if both statements are true\tx < 5 and  x < 10\t\n",
    "or\tReturns True if one of the statements is true\tx < 5 or x < 4\t\n",
    "not\tReverse the result, returns False if the result is true\tnot(x < 5 and x < 10)"
   ]
  },
  {
   "cell_type": "markdown",
   "id": "55bf978f",
   "metadata": {},
   "source": [
    "# Python Identity Operators\n",
    "Identity operators are used to compare the objects, not if they are equal, but if they are actually the same object, with the same memory location:\n",
    "Operator\tDescription\tExample\tTry it\n",
    "is \tReturns True if both variables are the same object\tx is y\t\n",
    "is not\tReturns True if both variables are not the same object\tx is not y"
   ]
  },
  {
   "cell_type": "markdown",
   "id": "553d2c62",
   "metadata": {},
   "source": [
    "# Python Membership Operators\n",
    "Membership operators are used to test if a sequence is presented in an object:\n",
    "Operator\tDescription\tExample\tTry it\n",
    "in \tReturns True if a sequence with the specified value is present in the object\tx in y\t\n",
    "not in\tReturns True if a sequence with the specified value is not present in the object\tx not in y"
   ]
  },
  {
   "cell_type": "markdown",
   "id": "9350afc2",
   "metadata": {},
   "source": [
    "# Python Bitwise Operators\n",
    "Bitwise operators are used to compare (binary) numbers:\n",
    "\n",
    "Operator\tName\tDescription\n",
    "& \tAND\tSets each bit to 1 if both bits are 1\n",
    "|\tOR\tSets each bit to 1 if one of two bits is 1\n",
    " ^\tXOR\tSets each bit to 1 if only one of two bits is 1\n",
    "~ \tNOT\tInverts all the bits\n",
    "<<\tZero fill left shift\tShift left by pushing zeros in from the right and let the leftmost bits fall off\n",
    ">>\tSigned right shift\tShift right by pushing copies of the leftmost bit in from the left, and let the rightmost bits fall off\n"
   ]
  },
  {
   "cell_type": "markdown",
   "id": "f7febfaf",
   "metadata": {},
   "source": [
    "# Python Lists\n"
   ]
  },
  {
   "cell_type": "markdown",
   "id": "76bb6501",
   "metadata": {},
   "source": [
    "List\n",
    "\n",
    "Lists are used to store multiple items in a single variable.\n",
    "\n",
    "Lists are one of 4 built-in data types in Python used to store collections of data, the other 3 are Tuple, Set, and Dictionary, all with different qualities and usage.\n",
    "\n",
    "Lists are created using square brackets:"
   ]
  },
  {
   "cell_type": "code",
   "execution_count": 2,
   "id": "d29ab960",
   "metadata": {},
   "outputs": [],
   "source": [
    "mylist = [\"apple\", \"banana\", \"cherry\"]\n"
   ]
  },
  {
   "cell_type": "code",
   "execution_count": 1,
   "id": "8dadeaeb",
   "metadata": {},
   "outputs": [
    {
     "name": "stdout",
     "output_type": "stream",
     "text": [
      "['apple', 'banana', 'cherry']\n"
     ]
    }
   ],
   "source": [
    "#Create a List:\n",
    "\n",
    "thislist = [\"apple\", \"banana\", \"cherry\"]\n",
    "print(thislist)"
   ]
  },
  {
   "cell_type": "markdown",
   "id": "4235153f",
   "metadata": {},
   "source": [
    "List Items\n",
    "List items are ordered, changeable, and allow duplicate values.\n",
    "\n",
    "List items are indexed, the first item has index [0], the second item has index [1] etc."
   ]
  },
  {
   "cell_type": "markdown",
   "id": "8ade61df",
   "metadata": {},
   "source": [
    "Ordered\n",
    "When we say that lists are ordered, it means that the items have a defined order, and that order will not change.\n",
    "\n",
    "If you add new items to a list, the new items will be placed at the end of the list."
   ]
  },
  {
   "cell_type": "markdown",
   "id": "d4aabd84",
   "metadata": {},
   "source": [
    "Changeable\n",
    "The list is changeable, meaning that we can change, add, and remove items in a list after it has been created."
   ]
  },
  {
   "cell_type": "markdown",
   "id": "24985861",
   "metadata": {},
   "source": [
    "Allow Duplicates\n",
    "Since lists are indexed, lists can have items with the same value:"
   ]
  },
  {
   "cell_type": "code",
   "execution_count": 1,
   "id": "a4470bb5",
   "metadata": {},
   "outputs": [
    {
     "name": "stdout",
     "output_type": "stream",
     "text": [
      "['python', 'sql', 'mongodb', 'tableau', 'excel']\n"
     ]
    }
   ],
   "source": [
    "#Lists allow duplicate values:\n",
    "\n",
    "thislist = [\"python\", \"sql\", \"mongodb\", \"tableau\", \"excel\"]\n",
    "print(thislist)"
   ]
  },
  {
   "cell_type": "markdown",
   "id": "61e8c31e",
   "metadata": {},
   "source": [
    "List Length\n",
    "To determine how many items a list has, use the len() function:"
   ]
  },
  {
   "cell_type": "code",
   "execution_count": 2,
   "id": "db27cfd3",
   "metadata": {},
   "outputs": [
    {
     "name": "stdout",
     "output_type": "stream",
     "text": [
      "3\n"
     ]
    }
   ],
   "source": [
    "#print the number of items in the list:\n",
    "\n",
    "thislist = [\"python\", \"sql\", \"mongodb\"]\n",
    "print(len(thislist))"
   ]
  },
  {
   "cell_type": "markdown",
   "id": "0f8ceb64",
   "metadata": {},
   "source": [
    "List Items - Data Types\n",
    "List items can be of any data type:"
   ]
  },
  {
   "cell_type": "code",
   "execution_count": 3,
   "id": "1411c748",
   "metadata": {},
   "outputs": [],
   "source": [
    "#String, int and boolean data types:\n",
    "\n",
    "list1 = [\"python\", \"sql\", \"mongodb\"]\n",
    "list2 = [1, 5, 7, 9, 3]\n",
    "list3 = [True, False, False]"
   ]
  },
  {
   "cell_type": "code",
   "execution_count": 4,
   "id": "b3dcf3cc",
   "metadata": {},
   "outputs": [],
   "source": [
    "#A list can contain different data types:"
   ]
  },
  {
   "cell_type": "markdown",
   "id": "ef0c7f6b",
   "metadata": {},
   "source": [
    "Example\n",
    "A list with strings, integers and boolean values:"
   ]
  },
  {
   "cell_type": "code",
   "execution_count": 6,
   "id": "2e3fe239",
   "metadata": {},
   "outputs": [],
   "source": [
    "list1 = [\"python\", 45, False, 50.7, \"female\"]"
   ]
  },
  {
   "cell_type": "code",
   "execution_count": 7,
   "id": "966ee3c8",
   "metadata": {},
   "outputs": [
    {
     "data": {
      "text/plain": [
       "['python', 45, False, 50.7, 'female']"
      ]
     },
     "execution_count": 7,
     "metadata": {},
     "output_type": "execute_result"
    }
   ],
   "source": [
    "list1"
   ]
  },
  {
   "cell_type": "markdown",
   "id": "622e7583",
   "metadata": {},
   "source": [
    "# type()\n",
    "#From Python's perspective, lists are defined as objects with the data type 'list':"
   ]
  },
  {
   "cell_type": "code",
   "execution_count": 8,
   "id": "e9edce49",
   "metadata": {},
   "outputs": [
    {
     "name": "stdout",
     "output_type": "stream",
     "text": [
      "<class 'list'>\n"
     ]
    }
   ],
   "source": [
    "#What is the data type of a list?\n",
    "\n",
    "mylist = [\"python\", \"sql\", \"mongodb\"]\n",
    "print(type(mylist))"
   ]
  },
  {
   "cell_type": "markdown",
   "id": "7b9c1dd1",
   "metadata": {},
   "source": [
    "# The list() Constructor\n",
    "It is also possible to use the list() constructor when creating a new list."
   ]
  },
  {
   "cell_type": "markdown",
   "id": "a8f82159",
   "metadata": {},
   "source": [
    "# Using the list() constructor to make a List:\n"
   ]
  },
  {
   "cell_type": "code",
   "execution_count": 9,
   "id": "89fc853a",
   "metadata": {},
   "outputs": [
    {
     "name": "stdout",
     "output_type": "stream",
     "text": [
      "['python', 'sql', 'mongodb']\n"
     ]
    }
   ],
   "source": [
    "thislist = list((\"python\", \"sql\", \"mongodb\")) # note the double round-brackets\n",
    "print(thislist)"
   ]
  },
  {
   "cell_type": "markdown",
   "id": "6f0a0d2a",
   "metadata": {},
   "source": [
    "# Python Collections (Arrays)\n",
    "There are four collection data types in the Python programming language:\n",
    "\n",
    "List is a collection which is ordered and changeable. Allows duplicate members.\n",
    "Tuple is a collection which is ordered and unchangeable. Allows duplicate members.\n",
    "Set is a collection which is unordered, unchangeable*, and unindexed. No duplicate members.\n",
    "Dictionary is a collection which is ordered** and changeable. No duplicate members."
   ]
  },
  {
   "cell_type": "markdown",
   "id": "0852b017",
   "metadata": {},
   "source": [
    "*Set items are unchangeable, but you can remove and/or add items whenever you like.\n",
    "\n",
    "**As of Python version 3.7, dictionaries are ordered. In Python 3.6 and earlier, dictionaries are unordered."
   ]
  },
  {
   "cell_type": "markdown",
   "id": "f2be8ba4",
   "metadata": {},
   "source": [
    "# Python - Access List Items\n"
   ]
  },
  {
   "cell_type": "markdown",
   "id": "c65fcd11",
   "metadata": {},
   "source": [
    "Access Items\n",
    "List items are indexed and you can access them by referring to the index number:"
   ]
  },
  {
   "cell_type": "code",
   "execution_count": 10,
   "id": "7391c3ce",
   "metadata": {},
   "outputs": [
    {
     "name": "stdout",
     "output_type": "stream",
     "text": [
      "sql\n"
     ]
    }
   ],
   "source": [
    "#Print the second item of the list:\n",
    "\n",
    "thislist = [\"python\", \"sql\", \"mongodb\"]\n",
    "print(thislist[1])"
   ]
  },
  {
   "cell_type": "markdown",
   "id": "3b9772f3",
   "metadata": {},
   "source": [
    "# Negative Indexing\n",
    "Negative indexing means start from the end\n",
    "\n",
    "-1 refers to the last item, -2 refers to the second last item etc."
   ]
  },
  {
   "cell_type": "code",
   "execution_count": 11,
   "id": "89459cfc",
   "metadata": {},
   "outputs": [
    {
     "name": "stdout",
     "output_type": "stream",
     "text": [
      "mongodb\n"
     ]
    }
   ],
   "source": [
    "#Print the last item of the list:\n",
    "\n",
    "thislist = [\"python\", \"sql\", \"mongodb\"]\n",
    "print(thislist[-1])"
   ]
  },
  {
   "cell_type": "markdown",
   "id": "dc74c4e3",
   "metadata": {},
   "source": [
    "# Range of Indexes\n",
    "You can specify a range of indexes by specifying where to start and where to end the range.\n",
    "\n",
    "When specifying a range, the return value will be a new list with the specified items."
   ]
  },
  {
   "cell_type": "code",
   "execution_count": 13,
   "id": "54634850",
   "metadata": {},
   "outputs": [
    {
     "name": "stdout",
     "output_type": "stream",
     "text": [
      "['mongodb', 'excel', 'tableau']\n"
     ]
    }
   ],
   "source": [
    "#Return the third, fourth, and fifth item:\n",
    "\n",
    "thislist = [\"python\", \"sql\", \"mongodb\",\"excel\",\"tableau\",\"powerbi\",\"R\",\"sas\"]\n",
    "print(thislist[2:5])"
   ]
  },
  {
   "cell_type": "code",
   "execution_count": 15,
   "id": "0b07abda",
   "metadata": {},
   "outputs": [
    {
     "name": "stdout",
     "output_type": "stream",
     "text": [
      "['python', 'sql', 'mongodb', 'excel']\n"
     ]
    }
   ],
   "source": [
    "\n",
    "thislist =  [\"python\", \"sql\", \"mongodb\",\"excel\",\"tableau\",\"powerbi\",\"R\",\"sas\"]\n",
    "print(thislist[:4])"
   ]
  },
  {
   "cell_type": "code",
   "execution_count": 16,
   "id": "9553c09e",
   "metadata": {},
   "outputs": [
    {
     "name": "stdout",
     "output_type": "stream",
     "text": [
      "['mongodb', 'excel', 'tableau', 'powerbi', 'R', 'sas']\n"
     ]
    }
   ],
   "source": [
    "#This example returns the items from \"cherry\" to the end:\n",
    "\n",
    "thislist =  [\"python\", \"sql\", \"mongodb\",\"excel\",\"tableau\",\"powerbi\",\"R\",\"sas\"]\n",
    "print(thislist[2:])"
   ]
  },
  {
   "cell_type": "markdown",
   "id": "31f9fec1",
   "metadata": {},
   "source": [
    "Range of Negative Indexes\n",
    "Specify negative indexes if you want to start the search from the end of the list:"
   ]
  },
  {
   "cell_type": "code",
   "execution_count": 19,
   "id": "288acfe0",
   "metadata": {},
   "outputs": [
    {
     "name": "stdout",
     "output_type": "stream",
     "text": [
      "['tableau', 'powerbi', 'R']\n"
     ]
    }
   ],
   "source": [
    "\n",
    "thislist =  [\"python\", \"sql\", \"mongodb\",\"excel\",\"tableau\",\"powerbi\",\"R\",\"sas\"]\n",
    "print(thislist[-4:-1])"
   ]
  },
  {
   "cell_type": "markdown",
   "id": "8be6ecb0",
   "metadata": {},
   "source": [
    "Check if Item Exists\n",
    "To determine if a specified item is present in a list use the in keyword:"
   ]
  },
  {
   "cell_type": "code",
   "execution_count": 20,
   "id": "5ac7bf70",
   "metadata": {},
   "outputs": [
    {
     "name": "stdout",
     "output_type": "stream",
     "text": [
      "Yes, 'sql' is in the list\n"
     ]
    }
   ],
   "source": [
    "#Check if \"sql\" is present in the list:\n",
    "\n",
    "thislist = [\"python\", \"sql\", \"mongodb\"]\n",
    "if \"sql\" in thislist:\n",
    "  print(\"Yes, 'sql' is in the list\")"
   ]
  },
  {
   "cell_type": "markdown",
   "id": "b462c94a",
   "metadata": {},
   "source": [
    "# Change Item Value\n",
    "To change the value of a specific item, refer to the index number:\n",
    "\n"
   ]
  },
  {
   "cell_type": "code",
   "execution_count": 21,
   "id": "3bfbe4b8",
   "metadata": {},
   "outputs": [
    {
     "name": "stdout",
     "output_type": "stream",
     "text": [
      "['python', 'Angular', 'mongodb']\n"
     ]
    }
   ],
   "source": [
    "#Change the second item:\n",
    "\n",
    "thislist = [\"python\", \"sql\", \"mongodb\"]\n",
    "thislist[1] = \"Angular\"\n",
    "print(thislist)"
   ]
  },
  {
   "cell_type": "markdown",
   "id": "9315c1b3",
   "metadata": {},
   "source": [
    "Change a Range of Item Values\n",
    "To change the value of items within a specific range, define a list with the new values, and refer to the range of index numbers where you want to insert the new values:"
   ]
  },
  {
   "cell_type": "code",
   "execution_count": 22,
   "id": "6bbc6c51",
   "metadata": {},
   "outputs": [
    {
     "name": "stdout",
     "output_type": "stream",
     "text": [
      "['python', 'angular', 'ruby', 'excel', 'tableau', 'powerbi', 'R', 'sas']\n"
     ]
    }
   ],
   "source": [
    "\n",
    "thislist = [\"python\", \"sql\", \"mongodb\",\"excel\",\"tableau\",\"powerbi\",\"R\",\"sas\"]\n",
    "thislist[1:3] = [\"angular\", \"ruby\"]\n",
    "print(thislist)"
   ]
  },
  {
   "cell_type": "markdown",
   "id": "8d834d86",
   "metadata": {},
   "source": [
    "If you insert more items than you replace, the new items will be inserted where you specified, and the remaining items will move accordingly:"
   ]
  },
  {
   "cell_type": "code",
   "execution_count": 23,
   "id": "ded7c6a5",
   "metadata": {},
   "outputs": [
    {
     "name": "stdout",
     "output_type": "stream",
     "text": [
      "['python', 'angular', 'ruby', 'mongodb']\n"
     ]
    }
   ],
   "source": [
    "#Change the second value by replacing it with two new values:\n",
    "\n",
    "thislist = [\"python\", \"sql\", \"mongodb\"]\n",
    "thislist[1:2] = [\"angular\", \"ruby\"]\n",
    "print(thislist)"
   ]
  },
  {
   "cell_type": "markdown",
   "id": "3e5492e5",
   "metadata": {},
   "source": [
    "Note: The length of the list will change when the number of items inserted does not match the number of items replaced.\n",
    "\n",
    "If you insert less items than you replace, the new items will be inserted where you specified, and the remaining items will move accordingly:"
   ]
  },
  {
   "cell_type": "markdown",
   "id": "47c151f9",
   "metadata": {},
   "source": [
    "Change the second and third value by replacing it with one value:"
   ]
  },
  {
   "cell_type": "code",
   "execution_count": 24,
   "id": "0629e8f3",
   "metadata": {},
   "outputs": [
    {
     "name": "stdout",
     "output_type": "stream",
     "text": [
      "['python', 'angular']\n"
     ]
    }
   ],
   "source": [
    "thislist = [\"python\", \"sql\", \"mongodb\"]\n",
    "thislist[1:3] = [\"angular\"]\n",
    "print(thislist)"
   ]
  },
  {
   "cell_type": "markdown",
   "id": "db2791e7",
   "metadata": {},
   "source": [
    "# Insert Items\n",
    "To insert a new list item, without replacing any of the existing values, we can use the insert() method.\n",
    "\n",
    "The insert() method inserts an item at the specified index:\n",
    "\n",
    "Example"
   ]
  },
  {
   "cell_type": "code",
   "execution_count": 25,
   "id": "ca0ca4d1",
   "metadata": {},
   "outputs": [
    {
     "name": "stdout",
     "output_type": "stream",
     "text": [
      "['python', 'sql', 'angular', 'mongodb']\n"
     ]
    }
   ],
   "source": [
    "#Insert \"angular\" as the third item:\n",
    "\n",
    "thislist = [\"python\", \"sql\", \"mongodb\"]\n",
    "thislist.insert(2, \"angular\")\n",
    "print(thislist)"
   ]
  },
  {
   "cell_type": "markdown",
   "id": "c9fcab74",
   "metadata": {},
   "source": [
    "# Python - Add List Items\n"
   ]
  },
  {
   "cell_type": "markdown",
   "id": "75e10aec",
   "metadata": {},
   "source": [
    "# Append Items\n",
    "To add an item to the end of the list, use the append() method:\n",
    "\n",
    "Example\n",
    "Using the append() method to append an item:"
   ]
  },
  {
   "cell_type": "code",
   "execution_count": 26,
   "id": "52ec53c5",
   "metadata": {},
   "outputs": [
    {
     "name": "stdout",
     "output_type": "stream",
     "text": [
      "['python', 'sql', 'mongodb', 'ruby']\n"
     ]
    }
   ],
   "source": [
    "thislist = [\"python\", \"sql\", \"mongodb\"]\n",
    "thislist.append(\"ruby\")\n",
    "print(thislist)"
   ]
  },
  {
   "cell_type": "markdown",
   "id": "2e71a84a",
   "metadata": {},
   "source": [
    "# Insert Items\n",
    "To insert a list item at a specified index, use the insert() method.\n",
    "The insert() method inserts an item at the specified index:"
   ]
  },
  {
   "cell_type": "code",
   "execution_count": 27,
   "id": "7382bf91",
   "metadata": {},
   "outputs": [
    {
     "name": "stdout",
     "output_type": "stream",
     "text": [
      "['python', 'pearl', 'sql', 'mongodb']\n"
     ]
    }
   ],
   "source": [
    "#Insert an item as the second position:\n",
    "\n",
    "thislist = [\"python\", \"sql\", \"mongodb\"]\n",
    "thislist.insert(1, \"pearl\")\n",
    "print(thislist)"
   ]
  },
  {
   "cell_type": "markdown",
   "id": "9d0dd30e",
   "metadata": {},
   "source": [
    "# Extend List\n",
    "To append elements from another list to the current list, use the extend() method.\n",
    "\n",
    "Example\n",
    "Add the elements of tropical to thislist:"
   ]
  },
  {
   "cell_type": "code",
   "execution_count": 28,
   "id": "8f6d72fd",
   "metadata": {},
   "outputs": [
    {
     "name": "stdout",
     "output_type": "stream",
     "text": [
      "['python', 'sql', 'mongodb', 'excel', 'tableau', 'powerbi', 'R', 'sas']\n"
     ]
    }
   ],
   "source": [
    "#The elements will be added to the end of the list.\n",
    "thislist = [\"python\", \"sql\", \"mongodb\"]\n",
    "technology = [\"excel\",\"tableau\",\"powerbi\",\"R\",\"sas\"]\n",
    "thislist.extend(technology)\n",
    "print(thislist)"
   ]
  },
  {
   "cell_type": "markdown",
   "id": "27ecd3ca",
   "metadata": {},
   "source": [
    "# Add Any Iterable\n",
    "The extend() method does not have to append lists, you can add any iterable object (tuples, sets, dictionaries etc.)."
   ]
  },
  {
   "cell_type": "markdown",
   "id": "3e15d727",
   "metadata": {},
   "source": [
    "# Add elements of a tuple to a list:\n"
   ]
  },
  {
   "cell_type": "code",
   "execution_count": 29,
   "id": "f3ac6e28",
   "metadata": {},
   "outputs": [
    {
     "name": "stdout",
     "output_type": "stream",
     "text": [
      "['python', 'sql', 'mongodb', 'excel', 'tableau', 'powerbi', 'R', 'sas']\n"
     ]
    }
   ],
   "source": [
    "\n",
    "thislist = [\"python\", \"sql\", \"mongodb\"]\n",
    "thistuple = (\"excel\",\"tableau\",\"powerbi\",\"R\",\"sas\")\n",
    "thislist.extend(thistuple)\n",
    "print(thislist)"
   ]
  },
  {
   "cell_type": "markdown",
   "id": "5c8ad2e7",
   "metadata": {},
   "source": [
    "# Python - Remove List Items\n"
   ]
  },
  {
   "cell_type": "markdown",
   "id": "fcfa2a43",
   "metadata": {},
   "source": [
    "# Remove Specified Item\n",
    "The remove() method removes the specified item."
   ]
  },
  {
   "cell_type": "code",
   "execution_count": 30,
   "id": "58df2f2e",
   "metadata": {},
   "outputs": [
    {
     "name": "stdout",
     "output_type": "stream",
     "text": [
      "['python', 'mongodb']\n"
     ]
    }
   ],
   "source": [
    "\n",
    "thislist = [\"python\", \"sql\", \"mongodb\"]\n",
    "thislist.remove(\"sql\")\n",
    "print(thislist)"
   ]
  },
  {
   "cell_type": "markdown",
   "id": "48b827fe",
   "metadata": {},
   "source": [
    "# Remove Specified Index\n",
    "The pop() method removes the specified index."
   ]
  },
  {
   "cell_type": "markdown",
   "id": "98f87c2a",
   "metadata": {},
   "source": [
    "# Remove the second item:\n",
    "\n"
   ]
  },
  {
   "cell_type": "code",
   "execution_count": 31,
   "id": "8d43a3a3",
   "metadata": {},
   "outputs": [
    {
     "name": "stdout",
     "output_type": "stream",
     "text": [
      "['python', 'mongodb']\n"
     ]
    }
   ],
   "source": [
    "thislist = [\"python\", \"sql\", \"mongodb\"]\n",
    "thislist.pop(1)\n",
    "print(thislist)\n",
    "#If you do not specify the index, the pop() method removes the last item.\n"
   ]
  },
  {
   "cell_type": "markdown",
   "id": "5c17cf61",
   "metadata": {},
   "source": [
    "# Remove the last item:\n",
    "\n"
   ]
  },
  {
   "cell_type": "code",
   "execution_count": 32,
   "id": "478b5a52",
   "metadata": {},
   "outputs": [
    {
     "name": "stdout",
     "output_type": "stream",
     "text": [
      "['python', 'sql']\n"
     ]
    }
   ],
   "source": [
    "thislist =  [\"python\", \"sql\", \"mongodb\"]\n",
    "thislist.pop()\n",
    "print(thislist)"
   ]
  },
  {
   "cell_type": "markdown",
   "id": "e3dea92f",
   "metadata": {},
   "source": [
    "The del keyword also removes the specified index:\n",
    "\n"
   ]
  },
  {
   "cell_type": "markdown",
   "id": "08d9e23d",
   "metadata": {},
   "source": [
    "# Remove the first item:\n"
   ]
  },
  {
   "cell_type": "code",
   "execution_count": 33,
   "id": "f58147fa",
   "metadata": {},
   "outputs": [
    {
     "name": "stdout",
     "output_type": "stream",
     "text": [
      "['sql', 'mongodb']\n"
     ]
    }
   ],
   "source": [
    "thislist =  [\"python\", \"sql\", \"mongodb\"]\n",
    "del thislist[0]\n",
    "print(thislist)"
   ]
  },
  {
   "cell_type": "markdown",
   "id": "656b5cf7",
   "metadata": {},
   "source": [
    "The del keyword can also delete the list completely.\n",
    "\n"
   ]
  },
  {
   "cell_type": "code",
   "execution_count": 34,
   "id": "3f8e8874",
   "metadata": {},
   "outputs": [],
   "source": [
    "#Delete the entire list:\n",
    "\n",
    "thislist =  [\"python\", \"sql\", \"mongodb\"]\n",
    "del thislist"
   ]
  },
  {
   "cell_type": "markdown",
   "id": "9f555c5a",
   "metadata": {},
   "source": [
    "# Clear the List\n",
    "The clear() method empties the list.\n",
    "\n",
    "The list still remains, but it has no content."
   ]
  },
  {
   "cell_type": "markdown",
   "id": "85b54a13",
   "metadata": {},
   "source": [
    "# Clear the list content:\n"
   ]
  },
  {
   "cell_type": "code",
   "execution_count": 36,
   "id": "9c64061e",
   "metadata": {},
   "outputs": [
    {
     "name": "stdout",
     "output_type": "stream",
     "text": [
      "[]\n"
     ]
    }
   ],
   "source": [
    "thislist =  [\"python\", \"sql\", \"mongodb\"]\n",
    "thislist.clear()\n",
    "print(thislist)"
   ]
  },
  {
   "cell_type": "markdown",
   "id": "16d4cee9",
   "metadata": {},
   "source": [
    "# Python - Loop Lists\n"
   ]
  },
  {
   "cell_type": "markdown",
   "id": "075da6d9",
   "metadata": {},
   "source": [
    "Loop Through a List\n",
    "You can loop through the list items by using a for loop:"
   ]
  },
  {
   "cell_type": "code",
   "execution_count": 41,
   "id": "ee7570ff",
   "metadata": {},
   "outputs": [
    {
     "name": "stdout",
     "output_type": "stream",
     "text": [
      "apple\n",
      "banana\n",
      "cherry\n"
     ]
    }
   ],
   "source": [
    "#Print all items in the list, one by one:\n",
    "\n",
    "thislist = [\"apple\", \"banana\", \"cherry\"]\n",
    "for x in thislist:\n",
    "  print(x)"
   ]
  },
  {
   "cell_type": "markdown",
   "id": "1533e4f1",
   "metadata": {},
   "source": [
    "# Loop Through the Index Numbers\n",
    "You can also loop through the list items by referring to their index number.\n",
    "\n",
    "Use the range() and len() functions to create a suitable iterable."
   ]
  },
  {
   "cell_type": "code",
   "execution_count": 42,
   "id": "fd7ba1dd",
   "metadata": {},
   "outputs": [
    {
     "name": "stdout",
     "output_type": "stream",
     "text": [
      "apple\n",
      "banana\n",
      "cherry\n"
     ]
    }
   ],
   "source": [
    "#Print all items by referring to their index number:\n",
    "\n",
    "thislist = [\"apple\", \"banana\", \"cherry\"]\n",
    "for i in range(len(thislist)):\n",
    "  print(thislist[i])"
   ]
  },
  {
   "cell_type": "markdown",
   "id": "812b45fe",
   "metadata": {},
   "source": [
    "The iterable created in the example above is [0, 1, 2].\n",
    "\n"
   ]
  },
  {
   "cell_type": "markdown",
   "id": "d03043fb",
   "metadata": {},
   "source": [
    "# Using a While Loop\n",
    "You can loop through the list items by using a while loop.\n",
    "\n",
    "Use the len() function to determine the length of the list, then start at 0 and loop your way through the list items by refering to their indexes.\n",
    "\n",
    "Remember to increase the index by 1 after each iteration."
   ]
  },
  {
   "cell_type": "code",
   "execution_count": 43,
   "id": "f81f5970",
   "metadata": {},
   "outputs": [
    {
     "name": "stdout",
     "output_type": "stream",
     "text": [
      "apple\n",
      "banana\n",
      "cherry\n"
     ]
    }
   ],
   "source": [
    "#Print all items, using a while loop to go through all the index numbers\n",
    "\n",
    "thislist = [\"apple\", \"banana\", \"cherry\"]\n",
    "i = 0\n",
    "while i < len(thislist):\n",
    "  print(thislist[i])\n",
    "  i = i + 1"
   ]
  },
  {
   "cell_type": "markdown",
   "id": "f4ccbcfd",
   "metadata": {},
   "source": [
    "# Looping Using List Comprehension\n",
    "List Comprehension offers the shortest syntax for looping through lists:"
   ]
  },
  {
   "cell_type": "markdown",
   "id": "141bf5df",
   "metadata": {},
   "source": [
    "A short hand for loop that will print all items in a list:\n"
   ]
  },
  {
   "cell_type": "code",
   "execution_count": null,
   "id": "336a6275",
   "metadata": {},
   "outputs": [],
   "source": [
    "thislist = [\"apple\", \"banana\", \"cherry\"]\n",
    "[print(x) for x in thislist]\n"
   ]
  },
  {
   "cell_type": "markdown",
   "id": "edf73b7c",
   "metadata": {},
   "source": [
    "# Python - List Comprehension\n"
   ]
  },
  {
   "cell_type": "markdown",
   "id": "aa4abe12",
   "metadata": {},
   "source": [
    "# List Comprehension\n",
    "List comprehension offers a shorter syntax when you want to create a new list based on the values of an existing list.\n",
    "\n",
    "Example:\n",
    "\n",
    "Based on a list of fruits, you want a new list, containing only the fruits with the letter \"a\" in the name.\n",
    "\n",
    "Without list comprehension you will have to write a for statement with a conditional test inside:"
   ]
  },
  {
   "cell_type": "code",
   "execution_count": 44,
   "id": "8ae1b4d1",
   "metadata": {},
   "outputs": [
    {
     "name": "stdout",
     "output_type": "stream",
     "text": [
      "['apple', 'banana', 'mango']\n"
     ]
    }
   ],
   "source": [
    "fruits = [\"apple\", \"banana\", \"cherry\", \"kiwi\", \"mango\"]\n",
    "newlist = []\n",
    "\n",
    "for x in fruits:\n",
    "  if \"a\" in x:\n",
    "    newlist.append(x)\n",
    "\n",
    "print(newlist)"
   ]
  },
  {
   "cell_type": "markdown",
   "id": "72b5c926",
   "metadata": {},
   "source": [
    "With list comprehension you can do all that with only one line of code:\n",
    "\n"
   ]
  },
  {
   "cell_type": "code",
   "execution_count": 46,
   "id": "2ee9a647",
   "metadata": {},
   "outputs": [
    {
     "name": "stdout",
     "output_type": "stream",
     "text": [
      "['apple', 'banana', 'mango']\n"
     ]
    }
   ],
   "source": [
    "fruits = [\"apple\", \"banana\", \"cherry\", \"kiwi\", \"mango\"]\n",
    "\n",
    "newlist = [x for x in fruits if \"a\" in x]\n",
    "\n",
    "print(newlist)"
   ]
  },
  {
   "cell_type": "raw",
   "id": "ef3bb065",
   "metadata": {},
   "source": [
    "The Syntax\n",
    "newlist = [expression for item in iterable if condition == True]\n",
    "The return value is a new list, leaving the old list unchanged.\n"
   ]
  },
  {
   "cell_type": "markdown",
   "id": "ddbd3399",
   "metadata": {},
   "source": [
    "Condition\n",
    "The condition is like a filter that only accepts the items that valuate to True."
   ]
  },
  {
   "cell_type": "code",
   "execution_count": 47,
   "id": "43215f04",
   "metadata": {},
   "outputs": [],
   "source": [
    "#Only accept items that are not \"apple\":\n",
    "\n",
    "newlist = [x for x in fruits if x != \"apple\"]\n"
   ]
  },
  {
   "cell_type": "code",
   "execution_count": 49,
   "id": "f027ff89",
   "metadata": {},
   "outputs": [],
   "source": [
    "#With no if statement:\n",
    "\n",
    "newlist = [x for x in fruits]"
   ]
  },
  {
   "cell_type": "code",
   "execution_count": 50,
   "id": "790ac3ee",
   "metadata": {},
   "outputs": [
    {
     "data": {
      "text/plain": [
       "['apple', 'banana', 'cherry', 'kiwi', 'mango']"
      ]
     },
     "execution_count": 50,
     "metadata": {},
     "output_type": "execute_result"
    }
   ],
   "source": [
    "newlist"
   ]
  },
  {
   "cell_type": "markdown",
   "id": "8ca88a29",
   "metadata": {},
   "source": [
    "Iterable\n",
    "The iterable can be any iterable object, like a list, tuple, set etc."
   ]
  },
  {
   "cell_type": "markdown",
   "id": "44a6d3a6",
   "metadata": {},
   "source": [
    "Example\n",
    "You can use the range() function to create an iterable:\n",
    "\n"
   ]
  },
  {
   "cell_type": "code",
   "execution_count": 51,
   "id": "b2485d75",
   "metadata": {},
   "outputs": [],
   "source": [
    "newlist = [x for x in range(10)]"
   ]
  },
  {
   "cell_type": "code",
   "execution_count": 52,
   "id": "b5a26564",
   "metadata": {},
   "outputs": [
    {
     "data": {
      "text/plain": [
       "[0, 1, 2, 3, 4, 5, 6, 7, 8, 9]"
      ]
     },
     "execution_count": 52,
     "metadata": {},
     "output_type": "execute_result"
    }
   ],
   "source": [
    "newlist"
   ]
  },
  {
   "cell_type": "code",
   "execution_count": 53,
   "id": "e0503f16",
   "metadata": {},
   "outputs": [],
   "source": [
    "#Accept only numbers lower than 5:\n",
    "\n",
    "newlist = [x for x in range(10) if x < 5]"
   ]
  },
  {
   "cell_type": "code",
   "execution_count": 54,
   "id": "2caf52c0",
   "metadata": {},
   "outputs": [
    {
     "data": {
      "text/plain": [
       "[0, 1, 2, 3, 4]"
      ]
     },
     "execution_count": 54,
     "metadata": {},
     "output_type": "execute_result"
    }
   ],
   "source": [
    "newlist"
   ]
  },
  {
   "cell_type": "markdown",
   "id": "ff7ec866",
   "metadata": {},
   "source": [
    "Expression\n",
    "The expression is the current item in the iteration, but it is also the outcome, which you can manipulate before it ends up like a list item in the new list:"
   ]
  },
  {
   "cell_type": "code",
   "execution_count": 55,
   "id": "7d36eeed",
   "metadata": {},
   "outputs": [],
   "source": [
    "#Set the values in the new list to upper case:\n",
    "\n",
    "newlist = [x.upper() for x in fruits]"
   ]
  },
  {
   "cell_type": "code",
   "execution_count": 56,
   "id": "e264ca3f",
   "metadata": {},
   "outputs": [
    {
     "data": {
      "text/plain": [
       "['APPLE', 'BANANA', 'CHERRY', 'KIWI', 'MANGO']"
      ]
     },
     "execution_count": 56,
     "metadata": {},
     "output_type": "execute_result"
    }
   ],
   "source": [
    "newlist"
   ]
  },
  {
   "cell_type": "code",
   "execution_count": 57,
   "id": "18be0a7d",
   "metadata": {},
   "outputs": [],
   "source": [
    "#Set all values in the new list to 'hello':\n",
    "\n",
    "newlist = ['hello' for x in fruits]"
   ]
  },
  {
   "cell_type": "code",
   "execution_count": 58,
   "id": "9772cf80",
   "metadata": {},
   "outputs": [
    {
     "data": {
      "text/plain": [
       "['hello', 'hello', 'hello', 'hello', 'hello']"
      ]
     },
     "execution_count": 58,
     "metadata": {},
     "output_type": "execute_result"
    }
   ],
   "source": [
    "newlist"
   ]
  },
  {
   "cell_type": "markdown",
   "id": "ca47b6bd",
   "metadata": {},
   "source": [
    "The expression can also contain conditions, not like a filter, but as a way to manipulate the outcome:\n",
    "\n"
   ]
  },
  {
   "cell_type": "code",
   "execution_count": 59,
   "id": "c136e4e4",
   "metadata": {},
   "outputs": [],
   "source": [
    "#Return \"orange\" instead of \"banana\":\n",
    "\n",
    "newlist = [x if x != \"banana\" else \"orange\" for x in fruits]"
   ]
  },
  {
   "cell_type": "code",
   "execution_count": 60,
   "id": "e11beedd",
   "metadata": {},
   "outputs": [
    {
     "data": {
      "text/plain": [
       "['apple', 'orange', 'cherry', 'kiwi', 'mango']"
      ]
     },
     "execution_count": 60,
     "metadata": {},
     "output_type": "execute_result"
    }
   ],
   "source": [
    "newlist"
   ]
  },
  {
   "cell_type": "markdown",
   "id": "6f2512e6",
   "metadata": {},
   "source": [
    "The expression in the example above says:\n",
    "\n",
    "\"Return the item if it is not banana, if it is banana return orange\"."
   ]
  },
  {
   "cell_type": "markdown",
   "id": "7b1d26e4",
   "metadata": {},
   "source": [
    "# Python - Sort Lists\n"
   ]
  },
  {
   "cell_type": "markdown",
   "id": "63a3e56e",
   "metadata": {},
   "source": [
    "# Sort List Alphanumerically\n"
   ]
  },
  {
   "cell_type": "markdown",
   "id": "af6fc49b",
   "metadata": {},
   "source": [
    "List objects have a sort() method that will sort the list alphanumerically, ascending, by default:\n",
    "\n"
   ]
  },
  {
   "cell_type": "code",
   "execution_count": 61,
   "id": "a7d41039",
   "metadata": {},
   "outputs": [
    {
     "name": "stdout",
     "output_type": "stream",
     "text": [
      "['banana', 'kiwi', 'mango', 'orange', 'pineapple']\n"
     ]
    }
   ],
   "source": [
    "#Sort the list alphabetically:\n",
    "\n",
    "thislist = [\"orange\", \"mango\", \"kiwi\", \"pineapple\", \"banana\"]\n",
    "thislist.sort()\n",
    "print(thislist)"
   ]
  },
  {
   "cell_type": "markdown",
   "id": "b89becbe",
   "metadata": {},
   "source": [
    "# Python - Copy Lists\n"
   ]
  },
  {
   "cell_type": "markdown",
   "id": "218cd39e",
   "metadata": {},
   "source": [
    "Copy a List\n",
    "You cannot copy a list simply by typing list2 = list1, because: list2 will only be a reference to list1, and changes made in list1 will automatically also be made in list2.\n",
    "\n",
    "There are ways to make a copy, one way is to use the built-in List method copy()."
   ]
  },
  {
   "cell_type": "code",
   "execution_count": 62,
   "id": "51e723cd",
   "metadata": {},
   "outputs": [
    {
     "name": "stdout",
     "output_type": "stream",
     "text": [
      "['apple', 'banana', 'cherry']\n"
     ]
    }
   ],
   "source": [
    "#Make a copy of a list with the copy() method:\n",
    "\n",
    "thislist = [\"apple\", \"banana\", \"cherry\"]\n",
    "mylist = thislist.copy()\n",
    "print(mylist)"
   ]
  },
  {
   "cell_type": "code",
   "execution_count": null,
   "id": "857ac5a1",
   "metadata": {},
   "outputs": [],
   "source": [
    "#Another way to make a copy is to use the built-in method list()."
   ]
  },
  {
   "cell_type": "code",
   "execution_count": 63,
   "id": "09672c69",
   "metadata": {},
   "outputs": [
    {
     "name": "stdout",
     "output_type": "stream",
     "text": [
      "['apple', 'banana', 'cherry']\n"
     ]
    }
   ],
   "source": [
    "#Make a copy of a list with the list() method:\n",
    "\n",
    "thislist = [\"apple\", \"banana\", \"cherry\"]\n",
    "mylist = list(thislist)\n",
    "print(mylist)"
   ]
  },
  {
   "cell_type": "markdown",
   "id": "18f8bde1",
   "metadata": {},
   "source": [
    "# Python - Join Lists\n"
   ]
  },
  {
   "cell_type": "markdown",
   "id": "fa687fac",
   "metadata": {},
   "source": [
    "# Join Two Lists\n",
    "There are several ways to join, or concatenate, two or more lists in Python.\n",
    "\n",
    "One of the easiest ways are by using the + operator."
   ]
  },
  {
   "cell_type": "code",
   "execution_count": 64,
   "id": "deed5f82",
   "metadata": {},
   "outputs": [
    {
     "name": "stdout",
     "output_type": "stream",
     "text": [
      "['a', 'b', 'c', 1, 2, 3]\n"
     ]
    }
   ],
   "source": [
    "#Join two list:\n",
    "\n",
    "list1 = [\"a\", \"b\", \"c\"]\n",
    "list2 = [1, 2, 3]\n",
    "\n",
    "list3 = list1 + list2\n",
    "print(list3)"
   ]
  },
  {
   "cell_type": "code",
   "execution_count": null,
   "id": "170c069b",
   "metadata": {},
   "outputs": [],
   "source": [
    "Another way to join two lists is by appending all the items from list2 into list1, one by one:\n",
    "\n"
   ]
  },
  {
   "cell_type": "code",
   "execution_count": null,
   "id": "85da15de",
   "metadata": {},
   "outputs": [],
   "source": []
  },
  {
   "cell_type": "code",
   "execution_count": null,
   "id": "3ba1c433",
   "metadata": {},
   "outputs": [],
   "source": []
  },
  {
   "cell_type": "code",
   "execution_count": null,
   "id": "2df364e8",
   "metadata": {},
   "outputs": [],
   "source": []
  },
  {
   "cell_type": "code",
   "execution_count": null,
   "id": "7a275523",
   "metadata": {},
   "outputs": [],
   "source": []
  }
 ],
 "metadata": {
  "kernelspec": {
   "display_name": "Python 3 (ipykernel)",
   "language": "python",
   "name": "python3"
  },
  "language_info": {
   "codemirror_mode": {
    "name": "ipython",
    "version": 3
   },
   "file_extension": ".py",
   "mimetype": "text/x-python",
   "name": "python",
   "nbconvert_exporter": "python",
   "pygments_lexer": "ipython3",
   "version": "3.9.7"
  }
 },
 "nbformat": 4,
 "nbformat_minor": 5
}
