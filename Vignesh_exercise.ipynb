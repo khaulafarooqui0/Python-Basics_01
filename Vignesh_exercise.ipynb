{
 "cells": [
  {
   "cell_type": "code",
   "execution_count": 1,
   "id": "8cdbb7de",
   "metadata": {},
   "outputs": [],
   "source": [
    "tech_stack_deloitte=[\"gcp\",\"azure\",\"python\",\"dataengineer\",\"gcp_cloud\",\"youtuber\",\"trainer\",\"datascientist\",\"ai_fundamentals\",\"gcp_associate\"]"
   ]
  },
  {
   "cell_type": "code",
   "execution_count": 2,
   "id": "82085c5f",
   "metadata": {},
   "outputs": [],
   "source": [
    "tech_stack_cts= [\"ai_fundamentals\",\"python\",\"sql\",\"eda\",\"calling\",\"noncalling\"]"
   ]
  },
  {
   "cell_type": "code",
   "execution_count": 3,
   "id": "528399a6",
   "metadata": {},
   "outputs": [],
   "source": [
    "newlist=[]"
   ]
  },
  {
   "cell_type": "code",
   "execution_count": 5,
   "id": "7e78967c",
   "metadata": {},
   "outputs": [
    {
     "name": "stdout",
     "output_type": "stream",
     "text": [
      "['azure', 'dataengineer', 'trainer', 'datascientist', 'ai_fundamentals', 'gcp_associate']\n"
     ]
    }
   ],
   "source": [
    "for tech in tech_stack_deloitte:\n",
    "    if \"a\"in tech:\n",
    "        newlist.append(tech)\n",
    "print(newlist)"
   ]
  },
  {
   "cell_type": "code",
   "execution_count": 11,
   "id": "921f6592",
   "metadata": {},
   "outputs": [],
   "source": [
    "new_list = [x for x in tech_stack_deloitte if  \"a\" in x ]"
   ]
  },
  {
   "cell_type": "code",
   "execution_count": 12,
   "id": "cd8eb553",
   "metadata": {},
   "outputs": [
    {
     "data": {
      "text/plain": [
       "['azure',\n",
       " 'dataengineer',\n",
       " 'trainer',\n",
       " 'datascientist',\n",
       " 'ai_fundamentals',\n",
       " 'gcp_associate']"
      ]
     },
     "execution_count": 12,
     "metadata": {},
     "output_type": "execute_result"
    }
   ],
   "source": [
    "new_list "
   ]
  },
  {
   "cell_type": "code",
   "execution_count": null,
   "id": "c5781fbd",
   "metadata": {},
   "outputs": [],
   "source": [
    "for i in tech_stack_deloitte:\n",
    "    if i in tech_stack_deloitte and tech_stack_cts:\n"
   ]
  },
  {
   "cell_type": "code",
   "execution_count": 14,
   "id": "69986dfa",
   "metadata": {},
   "outputs": [],
   "source": [
    "list_1 = [1, 2, 3, 4, 5]\n",
    "list_2 = [1, 2, 3, 7, 8]\n",
    "\n",
    "m_list = []\n",
    "\n",
    "for item in list_1:\n",
    "    for item1 in list_2:\n",
    "        if item == item1:\n",
    "            m_list.append(item)"
   ]
  },
  {
   "cell_type": "code",
   "execution_count": 20,
   "id": "11241647",
   "metadata": {},
   "outputs": [
    {
     "data": {
      "text/plain": [
       "[1, 2, 3]"
      ]
     },
     "execution_count": 20,
     "metadata": {},
     "output_type": "execute_result"
    }
   ],
   "source": [
    "m_list"
   ]
  },
  {
   "cell_type": "code",
   "execution_count": 16,
   "id": "f4f11955",
   "metadata": {},
   "outputs": [],
   "source": [
    "tech_stack_deloitte=[\"gcp\",\"azure\",\"python\",\"dataengineer\",\"gcp_cloud\",\"youtuber\",\"trainer\",\"datascientist\",\"ai_fundamentals\",\"gcp_associate\"]"
   ]
  },
  {
   "cell_type": "code",
   "execution_count": 17,
   "id": "96a13790",
   "metadata": {},
   "outputs": [],
   "source": [
    "tech_stack_cts= [\"ai_fundamentals\",\"python\",\"sql\",\"eda\",\"calling\",\"noncalling\"]"
   ]
  },
  {
   "cell_type": "code",
   "execution_count": 18,
   "id": "1cd637ad",
   "metadata": {},
   "outputs": [],
   "source": [
    "common_tech_stack=[]\n",
    "for v_tech in tech_stack_deloitte:\n",
    "    for k_tech in tech_stack_cts:\n",
    "        if v_tech==k_tech:\n",
    "            common_tech_stack.append(v_tech)\n",
    "            "
   ]
  },
  {
   "cell_type": "code",
   "execution_count": 19,
   "id": "27727635",
   "metadata": {},
   "outputs": [
    {
     "data": {
      "text/plain": [
       "['python', 'ai_fundamentals']"
      ]
     },
     "execution_count": 19,
     "metadata": {},
     "output_type": "execute_result"
    }
   ],
   "source": [
    "common_tech_stack"
   ]
  },
  {
   "cell_type": "code",
   "execution_count": 29,
   "id": "b7bf7630",
   "metadata": {},
   "outputs": [],
   "source": [
    "tech_stack_deloitte=[\"gcp\",\"azure\",\"dataengineer\",\"python\",\"python\",\"dataengineer\",\"gcp_cloud\",\"youtuber\",\"trainer\",\"datascientist\",\"gcp_cloud\",\"ai_fundamentals\",\"gcp_associate\"]"
   ]
  },
  {
   "cell_type": "code",
   "execution_count": 32,
   "id": "200badce",
   "metadata": {},
   "outputs": [],
   "source": [
    "# function to get unique values\n",
    "def unique(list1):\n",
    " \n",
    "    # initialize a null list\n",
    "    unique_list = []\n",
    "     \n",
    "    # traverse for all elements\n",
    "    for tech in list1:\n",
    "        # check if exists in unique_list or not\n",
    "        if x not in unique_list:\n",
    "            unique_list.append(x)\n",
    "    # print list\n",
    "    for x in unique_list:\n",
    "        print (x)\n",
    "     "
   ]
  },
  {
   "cell_type": "code",
   "execution_count": 35,
   "id": "6d695f4a",
   "metadata": {},
   "outputs": [],
   "source": [
    "tech_stack_deloitte=[\"gcp\",\"azure\",\"dataengineer\",\"python\",\"python\",\"dataengineer\",\"gcp_cloud\",\"youtuber\",\"trainer\",\"datascientist\",\"gcp_cloud\",\"ai_fundamentals\",\"gcp_associate\"]"
   ]
  },
  {
   "cell_type": "code",
   "execution_count": 36,
   "id": "ce26334f",
   "metadata": {},
   "outputs": [],
   "source": [
    "def unique(tech_stack_deloitte):\n",
    "    unique_list = []\n",
    "    for x in tech_stack_deloitte:\n",
    "        if x not in unique_list:\n",
    "            unique_list.append(x)\n",
    "    for x in unique_list:\n",
    "        print (x)"
   ]
  },
  {
   "cell_type": "code",
   "execution_count": 38,
   "id": "98ab47e4",
   "metadata": {},
   "outputs": [],
   "source": [
    "def unique(tech_stack_deloitte):\n",
    "    unique_list = []\n",
    "    for x in tech_stack_deloitte:\n",
    "        if x not in unique_list:\n",
    "            unique_list.append(x)\n",
    "    return x"
   ]
  },
  {
   "cell_type": "code",
   "execution_count": 39,
   "id": "f42e6091",
   "metadata": {},
   "outputs": [
    {
     "data": {
      "text/plain": [
       "'gcp_associate'"
      ]
     },
     "execution_count": 39,
     "metadata": {},
     "output_type": "execute_result"
    }
   ],
   "source": [
    "unique(tech_stack_deloitte)"
   ]
  },
  {
   "cell_type": "code",
   "execution_count": 37,
   "id": "551ea6c2",
   "metadata": {},
   "outputs": [
    {
     "name": "stdout",
     "output_type": "stream",
     "text": [
      "gcp\n",
      "azure\n",
      "dataengineer\n",
      "python\n",
      "gcp_cloud\n",
      "youtuber\n",
      "trainer\n",
      "datascientist\n",
      "ai_fundamentals\n",
      "gcp_associate\n"
     ]
    }
   ],
   "source": [
    "unique(tech_stack_deloitte)"
   ]
  },
  {
   "cell_type": "code",
   "execution_count": 42,
   "id": "52d63fef",
   "metadata": {},
   "outputs": [],
   "source": [
    "def unique(tech_stack_deloitte):\n",
    "     \n",
    "    # insert the list to the set\n",
    "    list_set = set(tech_stack_deloitte)\n",
    "    # convert the set to the list\n",
    "    unique_list = (list(list_set))\n",
    "    for x in unique_list:\n",
    "        print (x)"
   ]
  },
  {
   "cell_type": "code",
   "execution_count": 43,
   "id": "e109f342",
   "metadata": {},
   "outputs": [
    {
     "name": "stdout",
     "output_type": "stream",
     "text": [
      "gcp\n",
      "azure\n",
      "gcp_associate\n",
      "ai_fundamentals\n",
      "gcp_cloud\n",
      "datascientist\n",
      "dataengineer\n",
      "trainer\n",
      "python\n",
      "youtuber\n"
     ]
    }
   ],
   "source": [
    "unique(tech_stack_deloitte)"
   ]
  },
  {
   "cell_type": "code",
   "execution_count": null,
   "id": "4e3ae902",
   "metadata": {},
   "outputs": [],
   "source": []
  },
  {
   "cell_type": "code",
   "execution_count": null,
   "id": "cb4b854d",
   "metadata": {},
   "outputs": [],
   "source": []
  },
  {
   "cell_type": "code",
   "execution_count": null,
   "id": "98c49c27",
   "metadata": {},
   "outputs": [],
   "source": []
  },
  {
   "cell_type": "code",
   "execution_count": null,
   "id": "2df47636",
   "metadata": {},
   "outputs": [],
   "source": []
  },
  {
   "cell_type": "code",
   "execution_count": null,
   "id": "faa7d6b4",
   "metadata": {},
   "outputs": [],
   "source": []
  },
  {
   "cell_type": "code",
   "execution_count": null,
   "id": "fc05b65b",
   "metadata": {},
   "outputs": [],
   "source": []
  },
  {
   "cell_type": "code",
   "execution_count": null,
   "id": "86da6dc7",
   "metadata": {},
   "outputs": [],
   "source": []
  },
  {
   "cell_type": "code",
   "execution_count": null,
   "id": "ad4e91bc",
   "metadata": {},
   "outputs": [],
   "source": []
  },
  {
   "cell_type": "code",
   "execution_count": null,
   "id": "003d05f7",
   "metadata": {},
   "outputs": [],
   "source": []
  },
  {
   "cell_type": "code",
   "execution_count": null,
   "id": "cb2fef80",
   "metadata": {},
   "outputs": [],
   "source": []
  },
  {
   "cell_type": "code",
   "execution_count": null,
   "id": "4a55d7fe",
   "metadata": {},
   "outputs": [],
   "source": []
  },
  {
   "cell_type": "code",
   "execution_count": null,
   "id": "47c2b090",
   "metadata": {},
   "outputs": [],
   "source": []
  },
  {
   "cell_type": "code",
   "execution_count": null,
   "id": "b1ee2093",
   "metadata": {},
   "outputs": [],
   "source": []
  },
  {
   "cell_type": "code",
   "execution_count": null,
   "id": "79ae76ea",
   "metadata": {},
   "outputs": [],
   "source": []
  },
  {
   "cell_type": "code",
   "execution_count": null,
   "id": "f9985953",
   "metadata": {},
   "outputs": [],
   "source": []
  },
  {
   "cell_type": "code",
   "execution_count": null,
   "id": "9ef0ab90",
   "metadata": {},
   "outputs": [],
   "source": []
  },
  {
   "cell_type": "code",
   "execution_count": null,
   "id": "9af7dccf",
   "metadata": {},
   "outputs": [],
   "source": []
  },
  {
   "cell_type": "code",
   "execution_count": null,
   "id": "e129b251",
   "metadata": {},
   "outputs": [],
   "source": []
  },
  {
   "cell_type": "code",
   "execution_count": null,
   "id": "102411a5",
   "metadata": {},
   "outputs": [],
   "source": []
  },
  {
   "cell_type": "code",
   "execution_count": null,
   "id": "9f94b39e",
   "metadata": {},
   "outputs": [],
   "source": []
  },
  {
   "cell_type": "code",
   "execution_count": null,
   "id": "c87c5bdf",
   "metadata": {},
   "outputs": [],
   "source": []
  },
  {
   "cell_type": "code",
   "execution_count": null,
   "id": "da5d9601",
   "metadata": {},
   "outputs": [],
   "source": []
  },
  {
   "cell_type": "code",
   "execution_count": null,
   "id": "016c3142",
   "metadata": {},
   "outputs": [],
   "source": []
  },
  {
   "cell_type": "code",
   "execution_count": null,
   "id": "5c1888f3",
   "metadata": {},
   "outputs": [],
   "source": []
  },
  {
   "cell_type": "code",
   "execution_count": 13,
   "id": "37d1f386",
   "metadata": {},
   "outputs": [
    {
     "ename": "AttributeError",
     "evalue": "'list' object has no attribute 'intersection_update'",
     "output_type": "error",
     "traceback": [
      "\u001b[1;31m---------------------------------------------------------------------------\u001b[0m",
      "\u001b[1;31mAttributeError\u001b[0m                            Traceback (most recent call last)",
      "\u001b[1;32m~\\AppData\\Local\\Temp/ipykernel_9128/3871805602.py\u001b[0m in \u001b[0;36m<module>\u001b[1;34m\u001b[0m\n\u001b[1;32m----> 1\u001b[1;33m \u001b[0mtech_stack_deloitte\u001b[0m\u001b[1;33m.\u001b[0m\u001b[0mintersection_update\u001b[0m\u001b[1;33m(\u001b[0m\u001b[0mtech_stack_cts\u001b[0m\u001b[1;33m)\u001b[0m\u001b[1;33m\u001b[0m\u001b[1;33m\u001b[0m\u001b[0m\n\u001b[0m",
      "\u001b[1;31mAttributeError\u001b[0m: 'list' object has no attribute 'intersection_update'"
     ]
    }
   ],
   "source": [
    "tech_stack_deloitte.intersection_update(tech_stack_cts)"
   ]
  },
  {
   "cell_type": "code",
   "execution_count": null,
   "id": "84073766",
   "metadata": {},
   "outputs": [],
   "source": []
  }
 ],
 "metadata": {
  "kernelspec": {
   "display_name": "Python 3 (ipykernel)",
   "language": "python",
   "name": "python3"
  },
  "language_info": {
   "codemirror_mode": {
    "name": "ipython",
    "version": 3
   },
   "file_extension": ".py",
   "mimetype": "text/x-python",
   "name": "python",
   "nbconvert_exporter": "python",
   "pygments_lexer": "ipython3",
   "version": "3.9.7"
  }
 },
 "nbformat": 4,
 "nbformat_minor": 5
}
